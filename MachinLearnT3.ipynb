import numpy as np
import pandas as pd
import matplotlib.pyplot as plt 
from sklearn.model_selection import train_test_split
from sklearn.linear_model import LinearRegression

df=pd.read_csv("C:\\Users\Student\Desktop\data\Boston.csv")
df.drop(['Unnamed: 0'],axis=1,inplace=True)
df.head()

x=df.iloc[:,:-1].values
y=df.iloc[:,-1].values

x_train,x_test,y_train,y_test=train_test_split(x,y,test_size=0.3,random_state=42)

reg=LinearRegression()
reg.fit(x_train,y_train)
y_pred=reg.predict(x_test)

plt.scatter(y_test,y_pred)
plt.xlabel('price')
plt.ylabel('predictet price')
plt.show()


from sklearn.metrics import mean_squared_error

mse=mean_squared_error(y_test,y_pred)
mse

new_x=x[:,[1,2]]
new_y=y
new_x_trian,new_x_test,new_y_train,new_y_test=train_test_split(new_x,new_y,test_size=0.3,random_state=42)
new_reg=LinearRegression()
new_reg.fit(new_x_trian,new_y_train)
new_y_pred=new_reg.predict(new_x_test)
new_mse=mean_squared_error(new_y_test,new_y_pred)
new_mse

from sklearn.model_selection import cross_val_score

reg=LinearRegression()
cv_score=cross_val_score(reg,x,y,cv=5)
cv_score

np.mean(cv_score)

from sklearn.linear_model import Lasso

x.shape
