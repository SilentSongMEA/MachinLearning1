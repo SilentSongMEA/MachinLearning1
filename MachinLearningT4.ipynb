import numpy as np
import pandas as pd
import matplotlib.pyplot as plt 

df=pd.read_csv("C:\\Users\Student\Desktop\data\car.csv")
df.head()
#df["ENGINESIZE"].head()

df.describe()

df.columns

plt.figure(figsize=(5,10),dpi=100)
viz=df[['CYLINDERS','ENGINESIZE','CO2EMISSIONS','FUELCONSUMPTION_COMB']]
plt.show()
viz.hist()
plt.show()
#  ادامه موارد برنامه داخل تصویر
