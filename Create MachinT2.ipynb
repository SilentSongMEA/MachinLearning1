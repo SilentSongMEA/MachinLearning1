import numpy as np
import pandas as pd
import matplotlib.pyplot as plt
from sklearn.model_selection import train_test_split

data_set=pd.read_csv('C:\\Users\Student\Desktop\data\salary_Data.csv')
data_set

x=data_set.iloc[:,:-1].values
y=data_set.iloc[:,-1].values

y

from sklearn.model_selection import train_test_split
x_train,x_test,y_train,y_test=train_test_split(x,y,test_size=0.3,random_state=0)

from sklearn.linear_model import LinearRegression
regressor=LinearRegression()
regressor.fit(x_train,y_train)

y_pred=regressor.predict(x_test)
x_pred=regressor.predict(x_train)


# plt.scatter(x_train,y_train,color="green")
plt.scatter(x_test,y_test,color="blue")
plt.plot(x_test,y_pred,color="red")
plt.title("Salary vs Experience (Training Dataset)")
plt.xlabel("Years of Experience")
plt.ylabel("Salary (In Rupees)")
plt.show()
